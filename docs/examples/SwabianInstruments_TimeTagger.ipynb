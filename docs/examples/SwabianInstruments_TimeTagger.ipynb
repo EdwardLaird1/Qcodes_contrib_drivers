{
 "cells": [
  {
   "cell_type": "markdown",
   "id": "698bb0f1-a091-4329-89c7-9405843ed4f9",
   "metadata": {},
   "source": [
    "# Qcodes example with Swabian Instruments Time Tagger"
   ]
  },
  {
   "cell_type": "code",
   "execution_count": null,
   "id": "92e75416-ceb5-41ce-b061-58a03c1414b5",
   "metadata": {},
   "outputs": [],
   "source": [
    "from qcodes_contrib_drivers.drivers.SwabianInstruments.Swabian_Instruments_Time_Tagger import TimeTagger"
   ]
  },
  {
   "cell_type": "markdown",
   "id": "73f1dc31-726f-4b86-9718-dea2897c2a49",
   "metadata": {},
   "source": [
    "The driver wraps the `TimeTagger` python API provided by Swabian Instruments (download [here](https://www.swabianinstruments.com/time-tagger/downloads/)). As the API is very object-oriented, the QCoDeS driver is fairly dynamic in that, for each new measurement type, a new `InstrumentChannel` of the corresponding type is added to the main instrument. These channels have parameters which correspond to the instantiation arguments of the API objects, as well as gettable parameters which correspond to the measured data.\n",
    "\n",
    "For more information on the driver design, see the `SwabianInstruments/Swabian_Instruments_Time_Tagger.py` module docstring."
   ]
  },
  {
   "cell_type": "code",
   "execution_count": null,
   "id": "48cfd35e-4fbd-4651-ba03-aaec8dd4f431",
   "metadata": {},
   "outputs": [],
   "source": [
    "tagger = TimeTagger('tagger')"
   ]
  },
  {
   "cell_type": "markdown",
   "id": "1c1b074c-b0da-4a7d-9e0b-9d4807144901",
   "metadata": {},
   "source": [
    "To add a new `Correlation` measurement, use the automatically generated helper method `add_correlation_measurement`, which adds a `CorrelationMeasurement` channel to the `correlation_measurements` channel list."
   ]
  },
  {
   "cell_type": "code",
   "execution_count": null,
   "id": "a667dd11-1241-43d2-96f1-40eead292a9e",
   "metadata": {},
   "outputs": [],
   "source": [
    "correlation = tagger.add_correlation_measurement()\n",
    "correlation"
   ]
  },
  {
   "cell_type": "markdown",
   "id": "8816c693-b97f-4180-bd5c-bcd553969e7f",
   "metadata": {},
   "source": [
    "At first, the API object is not yet instantiated because arguments are missing:"
   ]
  },
  {
   "cell_type": "code",
   "execution_count": null,
   "id": "4b06f767-36d5-4b19-8640-316781867eeb",
   "metadata": {},
   "outputs": [],
   "source": [
    "try:\n",
    "    correlation.api\n",
    "except RuntimeError as err:\n",
    "    print(err)"
   ]
  },
  {
   "cell_type": "markdown",
   "id": "a1e64ff0-c26a-426b-b965-eb37b3408bcf",
   "metadata": {},
   "source": [
    "Instead, we must provide the arguments by setting the parameters:"
   ]
  },
  {
   "cell_type": "code",
   "execution_count": null,
   "id": "c67da704-550a-449c-85bf-0e0802d23d24",
   "metadata": {},
   "outputs": [],
   "source": [
    "correlation.channels([1, 2])\n",
    "correlation.binwidth(100)\n",
    "correlation.n_bins(1000)\n",
    "correlation.api"
   ]
  },
  {
   "cell_type": "markdown",
   "id": "393fc34f-dd09-4845-ad09-f3cadcddd31a",
   "metadata": {},
   "source": [
    "We can now start measuring:"
   ]
  },
  {
   "cell_type": "code",
   "execution_count": null,
   "id": "6849bfda-4be3-4335-ba57-7249ad0af0cd",
   "metadata": {},
   "outputs": [],
   "source": [
    "correlation.start_for(5, clear=True)\n",
    "while correlation.is_running():\n",
    "    pass\n",
    "print(correlation.capture_duration())\n",
    "print(correlation.data_normalized())"
   ]
  },
  {
   "cell_type": "markdown",
   "id": "2af6e354-b0a3-4ee3-9b88-f5b255f79a8d",
   "metadata": {},
   "source": [
    "Once a measurement is not needed anymore, it may also be removed from the tagger object:"
   ]
  },
  {
   "cell_type": "code",
   "execution_count": null,
   "id": "cf63c729-88df-4137-b04a-1ee61b6a16e8",
   "metadata": {},
   "outputs": [],
   "source": [
    "tagger.correlation_measurements.remove(correlation)"
   ]
  },
  {
   "cell_type": "markdown",
   "id": "53a72f95-ff2d-4e9d-99ca-9815f41ad89a",
   "metadata": {},
   "source": [
    "## Synchronized measurements"
   ]
  },
  {
   "cell_type": "markdown",
   "id": "74a564b9-f1b1-48c6-85b1-1ff0d92bb6a2",
   "metadata": {},
   "source": [
    "The `TimeTagger` driver also implements the `SynchronizedMeasurements` functionality of the API. This is an object that helps to synchronize multiple different measurements using the same physical tagger. It can either be used by passing the virtual tagger return by its `get_tagger()` method to the measurement, or by calling the `register_measurement()` and `unregister_measurement()` methods:"
   ]
  },
  {
   "cell_type": "code",
   "execution_count": null,
   "id": "0fea0f36-0e36-4bb9-89ac-15bc1d055196",
   "metadata": {},
   "outputs": [],
   "source": [
    "tagger.synchronized_measurements"
   ]
  },
  {
   "cell_type": "code",
   "execution_count": null,
   "id": "49d91765-56a2-4512-b179-12e4b90be264",
   "metadata": {},
   "outputs": [],
   "source": [
    "sync_tagger = tagger.synchronized_measurements.get_tagger()\n",
    "sync_correlation = tagger.add_correlation_measurement(api_tagger=sync_tagger)\n",
    "sync_count_rate = tagger.add_count_rate_measurement(api_tagger=sync_tagger)\n",
    "# Perform measurement as usual"
   ]
  },
  {
   "cell_type": "markdown",
   "id": "0173bdcc-561b-4276-b260-57ac8a24c718",
   "metadata": {},
   "source": [
    "Or, equivalently:"
   ]
  },
  {
   "cell_type": "code",
   "execution_count": null,
   "id": "d28f042a-8f22-4338-a24e-0ad447597d5a",
   "metadata": {},
   "outputs": [],
   "source": [
    "correlation = tagger.add_correlation_measurement()\n",
    "count_rate = tagger.add_count_rate_measurement()\n",
    "tagger.synchronized_measurements.register_measurement(correlation)\n",
    "tagger.synchronized_measurements.register_measurement(count_rate)\n",
    "# Perform measurement as usual\n",
    "tagger.synchronized_measurements.unregister_measurement(correlation)\n",
    "tagger.synchronized_measurements.unregister_measurement(count_rate)"
   ]
  }
 ],
 "metadata": {
  "kernelspec": {
   "display_name": "Python 3 (ipykernel)",
   "language": "python",
   "name": "python3"
  },
  "language_info": {
   "codemirror_mode": {
    "name": "ipython",
    "version": 3
   },
   "file_extension": ".py",
   "mimetype": "text/x-python",
   "name": "python",
   "nbconvert_exporter": "python",
   "pygments_lexer": "ipython3",
   "version": "3.12.2"
  }
 },
 "nbformat": 4,
 "nbformat_minor": 5
}
