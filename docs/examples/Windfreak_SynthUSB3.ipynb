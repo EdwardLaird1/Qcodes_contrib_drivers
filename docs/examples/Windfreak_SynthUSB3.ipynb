{
 "cells": [
  {
   "cell_type": "markdown",
   "id": "aeaa1ed0-ca33-4b53-90a6-677d954b4cbe",
   "metadata": {},
   "source": [
    "# QCoDeS example with Windfreak SynthUSB3"
   ]
  },
  {
   "cell_type": "markdown",
   "id": "c76ba465-60be-4586-8001-cdb186731e5e",
   "metadata": {},
   "source": [
    "The [Windfreak SynthUSB3](https://windfreaktech.com/product/synthusb3-6ghz-rf-signal-generator/?srsltid=AfmBOop659Mas_4NI602nmVhP5K-_Rg4vD_sRtijN1eoaUwZvDInOmIo) is an RF signal generator."
   ]
  },
  {
   "cell_type": "markdown",
   "id": "8427ab68-14ea-48a0-8db0-9d87b7e30733",
   "metadata": {},
   "source": [
    "## Setup and testing\n",
    "### Setup\n",
    "1. Make sure you have QCoDeS set up (see the [QCoDeS website](https://microsoft.github.io/Qcodes/index.html) or my notebook [14 minutes to QCoDeS](https://github.com/lairdgrouplancaster/14-minutes-to-QCoDeS/blob/main/14_minutes_to_QCoDeS.ipynb).)\n",
    "2. Plug the instrument into the USB interface of your computer, and run the output to a spectrum analyser so you can see what it's doing.\n",
    "3. Edit the code below to set your USB address, and run it."
   ]
  },
  {
   "cell_type": "code",
   "execution_count": 1,
   "id": "eb776893-b46f-468d-8e53-dd1a89271fe1",
   "metadata": {},
   "outputs": [
    {
     "name": "stderr",
     "output_type": "stream",
     "text": [
      "[sg_1(WindfreakSynthUSB3)] Could not connect at ASRL4\n",
      "Traceback (most recent call last):\n",
      "  File \"C:\\Users\\lairde\\AppData\\Local\\anaconda3\\envs\\qcodes\\Lib\\site-packages\\qcodes\\instrument\\visa.py\", line 215, in _connect_and_handle_error\n",
      "    visa_handle, visabackend, resource_manager = self._open_resource(\n",
      "                                                 ^^^^^^^^^^^^^^^^^^^^\n",
      "  File \"C:\\Users\\lairde\\AppData\\Local\\anaconda3\\envs\\qcodes\\Lib\\site-packages\\qcodes\\instrument\\visa.py\", line 243, in _open_resource\n",
      "    resource = resource_manager.open_resource(address)\n",
      "               ^^^^^^^^^^^^^^^^^^^^^^^^^^^^^^^^^^^^^^^\n",
      "  File \"C:\\Users\\lairde\\AppData\\Local\\anaconda3\\envs\\qcodes\\Lib\\site-packages\\pyvisa\\highlevel.py\", line 3292, in open_resource\n",
      "    res.open(access_mode, open_timeout)\n",
      "  File \"C:\\Users\\lairde\\AppData\\Local\\anaconda3\\envs\\qcodes\\Lib\\site-packages\\pyvisa\\resources\\resource.py\", line 281, in open\n",
      "    self.session, status = self._resource_manager.open_bare_resource(\n",
      "                           ^^^^^^^^^^^^^^^^^^^^^^^^^^^^^^^^^^^^^^^^^^\n",
      "  File \"C:\\Users\\lairde\\AppData\\Local\\anaconda3\\envs\\qcodes\\Lib\\site-packages\\pyvisa\\highlevel.py\", line 3217, in open_bare_resource\n",
      "    return self.visalib.open(self.session, resource_name, access_mode, open_timeout)\n",
      "           ^^^^^^^^^^^^^^^^^^^^^^^^^^^^^^^^^^^^^^^^^^^^^^^^^^^^^^^^^^^^^^^^^^^^^^^^^\n",
      "  File \"C:\\Users\\lairde\\AppData\\Local\\anaconda3\\envs\\qcodes\\Lib\\site-packages\\pyvisa\\ctwrapper\\functions.py\", line 1850, in open\n",
      "    ret = library.viOpen(\n",
      "          ^^^^^^^^^^^^^^^\n",
      "  File \"C:\\Users\\lairde\\AppData\\Local\\anaconda3\\envs\\qcodes\\Lib\\site-packages\\pyvisa\\ctwrapper\\highlevel.py\", line 226, in _return_handler\n",
      "    return self.handle_return_value(session, ret_value)  # type: ignore\n",
      "           ^^^^^^^^^^^^^^^^^^^^^^^^^^^^^^^^^^^^^^^^^^^^\n",
      "  File \"C:\\Users\\lairde\\AppData\\Local\\anaconda3\\envs\\qcodes\\Lib\\site-packages\\pyvisa\\highlevel.py\", line 251, in handle_return_value\n",
      "    raise errors.VisaIOError(rv)\n",
      "pyvisa.errors.VisaIOError: VI_ERROR_RSRC_BUSY (-1073807246): The resource is valid, but VISA cannot currently access it.\n"
     ]
    },
    {
     "ename": "VisaIOError",
     "evalue": "VI_ERROR_RSRC_BUSY (-1073807246): The resource is valid, but VISA cannot currently access it.",
     "output_type": "error",
     "traceback": [
      "\u001b[31m---------------------------------------------------------------------------\u001b[39m",
      "\u001b[31mVisaIOError\u001b[39m                               Traceback (most recent call last)",
      "\u001b[36mCell\u001b[39m\u001b[36m \u001b[39m\u001b[32mIn[1]\u001b[39m\u001b[32m, line 6\u001b[39m\n\u001b[32m      3\u001b[39m \u001b[38;5;28;01mfrom\u001b[39;00m\u001b[38;5;250m \u001b[39m\u001b[34;01mqcodes_contrib_drivers\u001b[39;00m\u001b[34;01m.\u001b[39;00m\u001b[34;01mdrivers\u001b[39;00m\u001b[34;01m.\u001b[39;00m\u001b[34;01mWindfreak\u001b[39;00m\u001b[34;01m.\u001b[39;00m\u001b[34;01mWindfreak_SynthUSB3\u001b[39;00m\u001b[38;5;250m \u001b[39m\u001b[38;5;28;01mimport\u001b[39;00m WindfreakSynthUSB3\n\u001b[32m      5\u001b[39m qc.Instrument.close_all() \u001b[38;5;66;03m# Closes all open instruments, in case there is a duplicate for any reason.\u001b[39;00m\n\u001b[32m----> \u001b[39m\u001b[32m6\u001b[39m sg_1 = \u001b[43mWindfreakSynthUSB3\u001b[49m\u001b[43m(\u001b[49m\u001b[33;43m'\u001b[39;49m\u001b[33;43msg_1\u001b[39;49m\u001b[33;43m'\u001b[39;49m\u001b[43m,\u001b[49m\u001b[33;43m'\u001b[39;49m\u001b[33;43mASRL4\u001b[39;49m\u001b[33;43m'\u001b[39;49m\u001b[43m)\u001b[49m  \u001b[38;5;66;03m# Set your USB address here.\u001b[39;00m\n",
      "\u001b[36mFile \u001b[39m\u001b[32m~\\AppData\\Local\\anaconda3\\envs\\qcodes\\Lib\\site-packages\\qcodes\\instrument\\instrument_meta.py:36\u001b[39m, in \u001b[36mInstrumentMeta.__call__\u001b[39m\u001b[34m(cls, *args, **kwargs)\u001b[39m\n\u001b[32m     31\u001b[39m \u001b[38;5;28;01mdef\u001b[39;00m\u001b[38;5;250m \u001b[39m\u001b[34m__call__\u001b[39m(\u001b[38;5;28mcls\u001b[39m, *args: Any, **kwargs: Any) -> Any:\n\u001b[32m     32\u001b[39m \u001b[38;5;250m    \u001b[39m\u001b[33;03m\"\"\"\u001b[39;00m\n\u001b[32m     33\u001b[39m \u001b[33;03m    Overloads `type.__call__` to add code that runs only if __init__ completes\u001b[39;00m\n\u001b[32m     34\u001b[39m \u001b[33;03m    successfully.\u001b[39;00m\n\u001b[32m     35\u001b[39m \u001b[33;03m    \"\"\"\u001b[39;00m\n\u001b[32m---> \u001b[39m\u001b[32m36\u001b[39m     new_inst = \u001b[38;5;28;43msuper\u001b[39;49m\u001b[43m(\u001b[49m\u001b[43m)\u001b[49m\u001b[43m.\u001b[49m\u001b[34;43m__call__\u001b[39;49m\u001b[43m(\u001b[49m\u001b[43m*\u001b[49m\u001b[43margs\u001b[49m\u001b[43m,\u001b[49m\u001b[43m \u001b[49m\u001b[43m*\u001b[49m\u001b[43m*\u001b[49m\u001b[43mkwargs\u001b[49m\u001b[43m)\u001b[49m\n\u001b[32m     37\u001b[39m     is_abstract = new_inst._is_abstract()\n\u001b[32m     38\u001b[39m     \u001b[38;5;28;01mif\u001b[39;00m is_abstract:\n",
      "\u001b[36mFile \u001b[39m\u001b[32m~\\AppData\\Local\\anaconda3\\envs\\qcodes\\Lib\\site-packages\\qcodes_contrib_drivers\\drivers\\Windfreak\\Windfreak_SynthUSB3.py:28\u001b[39m, in \u001b[36mWindfreakSynthUSB3.__init__\u001b[39m\u001b[34m(self, name, address, **kwargs)\u001b[39m\n\u001b[32m     25\u001b[39m \u001b[38;5;28;01mdef\u001b[39;00m\u001b[38;5;250m \u001b[39m\u001b[34m__init__\u001b[39m(\n\u001b[32m     26\u001b[39m     \u001b[38;5;28mself\u001b[39m, name: \u001b[38;5;28mstr\u001b[39m, address: \u001b[38;5;28mstr\u001b[39m, **kwargs: \u001b[33m\"\u001b[39m\u001b[33mUnpack[VisaInstrumentKWArgs]\u001b[39m\u001b[33m\"\u001b[39m\n\u001b[32m     27\u001b[39m ):\n\u001b[32m---> \u001b[39m\u001b[32m28\u001b[39m     \u001b[38;5;28;43msuper\u001b[39;49m\u001b[43m(\u001b[49m\u001b[43m)\u001b[49m\u001b[43m.\u001b[49m\u001b[34;43m__init__\u001b[39;49m\u001b[43m(\u001b[49m\u001b[43mname\u001b[49m\u001b[43m,\u001b[49m\u001b[43m \u001b[49m\u001b[43maddress\u001b[49m\u001b[43m,\u001b[49m\u001b[43m \u001b[49m\u001b[43m*\u001b[49m\u001b[43m*\u001b[49m\u001b[43mkwargs\u001b[49m\u001b[43m)\u001b[49m\n\u001b[32m     30\u001b[39m     \u001b[38;5;28mself\u001b[39m.add_parameter(\u001b[33m'\u001b[39m\u001b[33midentify\u001b[39m\u001b[33m'\u001b[39m,\n\u001b[32m     31\u001b[39m         label=\u001b[33m'\u001b[39m\u001b[33mIdentify\u001b[39m\u001b[33m'\u001b[39m,\n\u001b[32m     32\u001b[39m         get_cmd=\u001b[33m'\u001b[39m\u001b[33m+-\u001b[39m\u001b[33m'\u001b[39m,\n\u001b[32m     33\u001b[39m         get_parser=\u001b[38;5;28mstr\u001b[39m.rstrip\n\u001b[32m     34\u001b[39m         )\n\u001b[32m     35\u001b[39m \u001b[38;5;250m    \u001b[39m\u001b[33;03m\"\"\"Send model and serial number.\"\"\"\u001b[39;00m\n",
      "\u001b[36mFile \u001b[39m\u001b[32m~\\AppData\\Local\\anaconda3\\envs\\qcodes\\Lib\\site-packages\\qcodes\\instrument\\visa.py:188\u001b[39m, in \u001b[36mVisaInstrument.__init__\u001b[39m\u001b[34m(self, name, address, timeout, terminator, device_clear, visalib, pyvisa_sim_file, **kwargs)\u001b[39m\n\u001b[32m    182\u001b[39m         (\n\u001b[32m    183\u001b[39m             visa_handle,\n\u001b[32m    184\u001b[39m             visabackend,\n\u001b[32m    185\u001b[39m             resource_manager,\n\u001b[32m    186\u001b[39m         ) = \u001b[38;5;28mself\u001b[39m._connect_and_handle_error(address, visalib)\n\u001b[32m    187\u001b[39m \u001b[38;5;28;01melse\u001b[39;00m:\n\u001b[32m--> \u001b[39m\u001b[32m188\u001b[39m     visa_handle, visabackend, resource_manager = \u001b[38;5;28;43mself\u001b[39;49m\u001b[43m.\u001b[49m\u001b[43m_connect_and_handle_error\u001b[49m\u001b[43m(\u001b[49m\n\u001b[32m    189\u001b[39m \u001b[43m        \u001b[49m\u001b[43maddress\u001b[49m\u001b[43m,\u001b[49m\u001b[43m \u001b[49m\u001b[43mvisalib\u001b[49m\n\u001b[32m    190\u001b[39m \u001b[43m    \u001b[49m\u001b[43m)\u001b[49m\n\u001b[32m    191\u001b[39m finalize(\u001b[38;5;28mself\u001b[39m, _close_visa_handle, visa_handle, \u001b[38;5;28mstr\u001b[39m(\u001b[38;5;28mself\u001b[39m.name))\n\u001b[32m    193\u001b[39m \u001b[38;5;28mself\u001b[39m.visabackend: \u001b[38;5;28mstr\u001b[39m = visabackend\n",
      "\u001b[36mFile \u001b[39m\u001b[32m~\\AppData\\Local\\anaconda3\\envs\\qcodes\\Lib\\site-packages\\qcodes\\instrument\\visa.py:221\u001b[39m, in \u001b[36mVisaInstrument._connect_and_handle_error\u001b[39m\u001b[34m(self, address, visalib)\u001b[39m\n\u001b[32m    219\u001b[39m     \u001b[38;5;28mself\u001b[39m.visa_log.exception(\u001b[33mf\u001b[39m\u001b[33m\"\u001b[39m\u001b[33mCould not connect at \u001b[39m\u001b[38;5;132;01m{\u001b[39;00maddress\u001b[38;5;132;01m}\u001b[39;00m\u001b[33m\"\u001b[39m)\n\u001b[32m    220\u001b[39m     \u001b[38;5;28mself\u001b[39m.close()\n\u001b[32m--> \u001b[39m\u001b[32m221\u001b[39m     \u001b[38;5;28;01mraise\u001b[39;00m e\n\u001b[32m    222\u001b[39m \u001b[38;5;28;01mreturn\u001b[39;00m visa_handle, visabackend, resource_manager\n",
      "\u001b[36mFile \u001b[39m\u001b[32m~\\AppData\\Local\\anaconda3\\envs\\qcodes\\Lib\\site-packages\\qcodes\\instrument\\visa.py:215\u001b[39m, in \u001b[36mVisaInstrument._connect_and_handle_error\u001b[39m\u001b[34m(self, address, visalib)\u001b[39m\n\u001b[32m    211\u001b[39m \u001b[38;5;28;01mdef\u001b[39;00m\u001b[38;5;250m \u001b[39m\u001b[34m_connect_and_handle_error\u001b[39m(\n\u001b[32m    212\u001b[39m     \u001b[38;5;28mself\u001b[39m, address: \u001b[38;5;28mstr\u001b[39m, visalib: \u001b[38;5;28mstr\u001b[39m | \u001b[38;5;28;01mNone\u001b[39;00m\n\u001b[32m    213\u001b[39m ) -> \u001b[38;5;28mtuple\u001b[39m[pyvisa.resources.MessageBasedResource, \u001b[38;5;28mstr\u001b[39m, pyvisa.ResourceManager]:\n\u001b[32m    214\u001b[39m     \u001b[38;5;28;01mtry\u001b[39;00m:\n\u001b[32m--> \u001b[39m\u001b[32m215\u001b[39m         visa_handle, visabackend, resource_manager = \u001b[38;5;28;43mself\u001b[39;49m\u001b[43m.\u001b[49m\u001b[43m_open_resource\u001b[49m\u001b[43m(\u001b[49m\n\u001b[32m    216\u001b[39m \u001b[43m            \u001b[49m\u001b[43maddress\u001b[49m\u001b[43m,\u001b[49m\u001b[43m \u001b[49m\u001b[43mvisalib\u001b[49m\n\u001b[32m    217\u001b[39m \u001b[43m        \u001b[49m\u001b[43m)\u001b[49m\n\u001b[32m    218\u001b[39m     \u001b[38;5;28;01mexcept\u001b[39;00m \u001b[38;5;167;01mException\u001b[39;00m \u001b[38;5;28;01mas\u001b[39;00m e:\n\u001b[32m    219\u001b[39m         \u001b[38;5;28mself\u001b[39m.visa_log.exception(\u001b[33mf\u001b[39m\u001b[33m\"\u001b[39m\u001b[33mCould not connect at \u001b[39m\u001b[38;5;132;01m{\u001b[39;00maddress\u001b[38;5;132;01m}\u001b[39;00m\u001b[33m\"\u001b[39m)\n",
      "\u001b[36mFile \u001b[39m\u001b[32m~\\AppData\\Local\\anaconda3\\envs\\qcodes\\Lib\\site-packages\\qcodes\\instrument\\visa.py:243\u001b[39m, in \u001b[36mVisaInstrument._open_resource\u001b[39m\u001b[34m(self, address, visalib)\u001b[39m\n\u001b[32m    240\u001b[39m     visabackend = \u001b[33m\"\u001b[39m\u001b[33mivi\u001b[39m\u001b[33m\"\u001b[39m\n\u001b[32m    242\u001b[39m \u001b[38;5;28mself\u001b[39m.visa_log.info(\u001b[33mf\u001b[39m\u001b[33m\"\u001b[39m\u001b[33mOpening PyVISA resource at address: \u001b[39m\u001b[38;5;132;01m{\u001b[39;00maddress\u001b[38;5;132;01m}\u001b[39;00m\u001b[33m\"\u001b[39m)\n\u001b[32m--> \u001b[39m\u001b[32m243\u001b[39m resource = \u001b[43mresource_manager\u001b[49m\u001b[43m.\u001b[49m\u001b[43mopen_resource\u001b[49m\u001b[43m(\u001b[49m\u001b[43maddress\u001b[49m\u001b[43m)\u001b[49m\n\u001b[32m    244\u001b[39m \u001b[38;5;28;01mif\u001b[39;00m \u001b[38;5;129;01mnot\u001b[39;00m \u001b[38;5;28misinstance\u001b[39m(resource, pyvisa.resources.MessageBasedResource):\n\u001b[32m    245\u001b[39m     resource.close()\n",
      "\u001b[36mFile \u001b[39m\u001b[32m~\\AppData\\Local\\anaconda3\\envs\\qcodes\\Lib\\site-packages\\pyvisa\\highlevel.py:3292\u001b[39m, in \u001b[36mResourceManager.open_resource\u001b[39m\u001b[34m(self, resource_name, access_mode, open_timeout, resource_pyclass, **kwargs)\u001b[39m\n\u001b[32m   3286\u001b[39m     \u001b[38;5;28;01mif\u001b[39;00m \u001b[38;5;129;01mnot\u001b[39;00m present:\n\u001b[32m   3287\u001b[39m         \u001b[38;5;28;01mraise\u001b[39;00m \u001b[38;5;167;01mValueError\u001b[39;00m(\n\u001b[32m   3288\u001b[39m             \u001b[33m\"\u001b[39m\u001b[38;5;132;01m%r\u001b[39;00m\u001b[33m is not a valid attribute for type \u001b[39m\u001b[38;5;132;01m%s\u001b[39;00m\u001b[33m\"\u001b[39m\n\u001b[32m   3289\u001b[39m             % (key, res.\u001b[34m__class__\u001b[39m.\u001b[34m__name__\u001b[39m)\n\u001b[32m   3290\u001b[39m         )\n\u001b[32m-> \u001b[39m\u001b[32m3292\u001b[39m \u001b[43mres\u001b[49m\u001b[43m.\u001b[49m\u001b[43mopen\u001b[49m\u001b[43m(\u001b[49m\u001b[43maccess_mode\u001b[49m\u001b[43m,\u001b[49m\u001b[43m \u001b[49m\u001b[43mopen_timeout\u001b[49m\u001b[43m)\u001b[49m\n\u001b[32m   3294\u001b[39m \u001b[38;5;28;01mfor\u001b[39;00m key, value \u001b[38;5;129;01min\u001b[39;00m kwargs.items():\n\u001b[32m   3295\u001b[39m     \u001b[38;5;28msetattr\u001b[39m(res, key, value)\n",
      "\u001b[36mFile \u001b[39m\u001b[32m~\\AppData\\Local\\anaconda3\\envs\\qcodes\\Lib\\site-packages\\pyvisa\\resources\\resource.py:281\u001b[39m, in \u001b[36mResource.open\u001b[39m\u001b[34m(self, access_mode, open_timeout)\u001b[39m\n\u001b[32m    277\u001b[39m logger.debug(\u001b[33m\"\u001b[39m\u001b[38;5;132;01m%s\u001b[39;00m\u001b[33m - opening ...\u001b[39m\u001b[33m\"\u001b[39m, \u001b[38;5;28mself\u001b[39m._resource_name, extra=\u001b[38;5;28mself\u001b[39m._logging_extra)\n\u001b[32m    278\u001b[39m \u001b[38;5;28;01mwith\u001b[39;00m \u001b[38;5;28mself\u001b[39m._resource_manager.ignore_warning(\n\u001b[32m    279\u001b[39m     constants.StatusCode.success_device_not_present\n\u001b[32m    280\u001b[39m ):\n\u001b[32m--> \u001b[39m\u001b[32m281\u001b[39m     \u001b[38;5;28mself\u001b[39m.session, status = \u001b[38;5;28;43mself\u001b[39;49m\u001b[43m.\u001b[49m\u001b[43m_resource_manager\u001b[49m\u001b[43m.\u001b[49m\u001b[43mopen_bare_resource\u001b[49m\u001b[43m(\u001b[49m\n\u001b[32m    282\u001b[39m \u001b[43m        \u001b[49m\u001b[38;5;28;43mself\u001b[39;49m\u001b[43m.\u001b[49m\u001b[43m_resource_name\u001b[49m\u001b[43m,\u001b[49m\u001b[43m \u001b[49m\u001b[43maccess_mode\u001b[49m\u001b[43m,\u001b[49m\u001b[43m \u001b[49m\u001b[43mopen_timeout\u001b[49m\n\u001b[32m    283\u001b[39m \u001b[43m    \u001b[49m\u001b[43m)\u001b[49m\n\u001b[32m    285\u001b[39m     \u001b[38;5;28;01mif\u001b[39;00m status == constants.StatusCode.success_device_not_present:\n\u001b[32m    286\u001b[39m         \u001b[38;5;66;03m# The device was not ready when we opened the session.\u001b[39;00m\n\u001b[32m    287\u001b[39m         \u001b[38;5;66;03m# Now it gets five seconds more to become ready.\u001b[39;00m\n\u001b[32m    288\u001b[39m         \u001b[38;5;66;03m# Every 0.1 seconds we probe it with viClear.\u001b[39;00m\n\u001b[32m    289\u001b[39m         start_time = time.time()\n",
      "\u001b[36mFile \u001b[39m\u001b[32m~\\AppData\\Local\\anaconda3\\envs\\qcodes\\Lib\\site-packages\\pyvisa\\highlevel.py:3217\u001b[39m, in \u001b[36mResourceManager.open_bare_resource\u001b[39m\u001b[34m(self, resource_name, access_mode, open_timeout)\u001b[39m\n\u001b[32m   3188\u001b[39m \u001b[38;5;28;01mdef\u001b[39;00m\u001b[38;5;250m \u001b[39m\u001b[34mopen_bare_resource\u001b[39m(\n\u001b[32m   3189\u001b[39m     \u001b[38;5;28mself\u001b[39m,\n\u001b[32m   3190\u001b[39m     resource_name: \u001b[38;5;28mstr\u001b[39m,\n\u001b[32m   3191\u001b[39m     access_mode: constants.AccessModes = constants.AccessModes.no_lock,\n\u001b[32m   3192\u001b[39m     open_timeout: \u001b[38;5;28mint\u001b[39m = constants.VI_TMO_IMMEDIATE,\n\u001b[32m   3193\u001b[39m ) -> Tuple[VISASession, StatusCode]:\n\u001b[32m   3194\u001b[39m \u001b[38;5;250m    \u001b[39m\u001b[33;03m\"\"\"Open the specified resource without wrapping into a class.\u001b[39;00m\n\u001b[32m   3195\u001b[39m \n\u001b[32m   3196\u001b[39m \u001b[33;03m    Parameters\u001b[39;00m\n\u001b[32m   (...)\u001b[39m\u001b[32m   3215\u001b[39m \n\u001b[32m   3216\u001b[39m \u001b[33;03m    \"\"\"\u001b[39;00m\n\u001b[32m-> \u001b[39m\u001b[32m3217\u001b[39m     \u001b[38;5;28;01mreturn\u001b[39;00m \u001b[38;5;28;43mself\u001b[39;49m\u001b[43m.\u001b[49m\u001b[43mvisalib\u001b[49m\u001b[43m.\u001b[49m\u001b[43mopen\u001b[49m\u001b[43m(\u001b[49m\u001b[38;5;28;43mself\u001b[39;49m\u001b[43m.\u001b[49m\u001b[43msession\u001b[49m\u001b[43m,\u001b[49m\u001b[43m \u001b[49m\u001b[43mresource_name\u001b[49m\u001b[43m,\u001b[49m\u001b[43m \u001b[49m\u001b[43maccess_mode\u001b[49m\u001b[43m,\u001b[49m\u001b[43m \u001b[49m\u001b[43mopen_timeout\u001b[49m\u001b[43m)\u001b[49m\n",
      "\u001b[36mFile \u001b[39m\u001b[32m~\\AppData\\Local\\anaconda3\\envs\\qcodes\\Lib\\site-packages\\pyvisa\\ctwrapper\\functions.py:1850\u001b[39m, in \u001b[36mopen\u001b[39m\u001b[34m(library, session, resource_name, access_mode, open_timeout)\u001b[39m\n\u001b[32m   1846\u001b[39m out_session = ViSession()\n\u001b[32m   1848\u001b[39m \u001b[38;5;66;03m# [ViSession, ViRsrc, ViAccessMode, ViUInt32, ViPSession]\u001b[39;00m\n\u001b[32m   1849\u001b[39m \u001b[38;5;66;03m# ViRsrc converts from (str, unicode, bytes) to bytes\u001b[39;00m\n\u001b[32m-> \u001b[39m\u001b[32m1850\u001b[39m ret = \u001b[43mlibrary\u001b[49m\u001b[43m.\u001b[49m\u001b[43mviOpen\u001b[49m\u001b[43m(\u001b[49m\n\u001b[32m   1851\u001b[39m \u001b[43m    \u001b[49m\u001b[43msession\u001b[49m\u001b[43m,\u001b[49m\u001b[43m \u001b[49m\u001b[43mresource_name\u001b[49m\u001b[43m,\u001b[49m\u001b[43m \u001b[49m\u001b[43maccess_mode\u001b[49m\u001b[43m,\u001b[49m\u001b[43m \u001b[49m\u001b[43mopen_timeout\u001b[49m\u001b[43m,\u001b[49m\u001b[43m \u001b[49m\u001b[43mbyref\u001b[49m\u001b[43m(\u001b[49m\u001b[43mout_session\u001b[49m\u001b[43m)\u001b[49m\n\u001b[32m   1852\u001b[39m \u001b[43m\u001b[49m\u001b[43m)\u001b[49m\n\u001b[32m   1853\u001b[39m \u001b[38;5;28;01mreturn\u001b[39;00m out_session.value, ret\n",
      "\u001b[36mFile \u001b[39m\u001b[32m~\\AppData\\Local\\anaconda3\\envs\\qcodes\\Lib\\site-packages\\pyvisa\\ctwrapper\\highlevel.py:226\u001b[39m, in \u001b[36mIVIVisaLibrary._return_handler\u001b[39m\u001b[34m(self, ret_value, func, arguments)\u001b[39m\n\u001b[32m    223\u001b[39m         \u001b[38;5;66;03m# Set session back to a safe value\u001b[39;00m\n\u001b[32m    224\u001b[39m         session = \u001b[38;5;28;01mNone\u001b[39;00m\n\u001b[32m--> \u001b[39m\u001b[32m226\u001b[39m \u001b[38;5;28;01mreturn\u001b[39;00m \u001b[38;5;28;43mself\u001b[39;49m\u001b[43m.\u001b[49m\u001b[43mhandle_return_value\u001b[49m\u001b[43m(\u001b[49m\u001b[43msession\u001b[49m\u001b[43m,\u001b[49m\u001b[43m \u001b[49m\u001b[43mret_value\u001b[49m\u001b[43m)\u001b[49m\n",
      "\u001b[36mFile \u001b[39m\u001b[32m~\\AppData\\Local\\anaconda3\\envs\\qcodes\\Lib\\site-packages\\pyvisa\\highlevel.py:251\u001b[39m, in \u001b[36mVisaLibraryBase.handle_return_value\u001b[39m\u001b[34m(self, session, status_code)\u001b[39m\n\u001b[32m    248\u001b[39m     \u001b[38;5;28mself\u001b[39m._last_status_in_session[session] = rv\n\u001b[32m    250\u001b[39m \u001b[38;5;28;01mif\u001b[39;00m rv < \u001b[32m0\u001b[39m:\n\u001b[32m--> \u001b[39m\u001b[32m251\u001b[39m     \u001b[38;5;28;01mraise\u001b[39;00m errors.VisaIOError(rv)\n\u001b[32m    253\u001b[39m \u001b[38;5;28;01mif\u001b[39;00m rv \u001b[38;5;129;01min\u001b[39;00m \u001b[38;5;28mself\u001b[39m.issue_warning_on:\n\u001b[32m    254\u001b[39m     \u001b[38;5;28;01mif\u001b[39;00m session \u001b[38;5;129;01mand\u001b[39;00m rv \u001b[38;5;129;01mnot\u001b[39;00m \u001b[38;5;129;01min\u001b[39;00m \u001b[38;5;28mself\u001b[39m._ignore_warning_in_session[session]:\n",
      "\u001b[31mVisaIOError\u001b[39m: VI_ERROR_RSRC_BUSY (-1073807246): The resource is valid, but VISA cannot currently access it."
     ]
    }
   ],
   "source": [
    "import time\n",
    "import qcodes as qc\n",
    "from qcodes_contrib_drivers.drivers.Windfreak.Windfreak_SynthUSB3 import WindfreakSynthUSB3\n",
    "\n",
    "qc.Instrument.close_all() # Closes all open instruments, in case there is a duplicate for any reason.\n",
    "sg_1 = WindfreakSynthUSB3('sg_1','ASRL4')  # Set your USB address here."
   ]
  },
  {
   "cell_type": "markdown",
   "id": "1453c1ed-1a04-435f-9fc9-a4459b7542a0",
   "metadata": {},
   "source": [
    "### Test the connection\n",
    "Run:"
   ]
  },
  {
   "cell_type": "code",
   "execution_count": 2,
   "id": "fdb4a19a-f5fd-46e8-875a-20696fe2f1d9",
   "metadata": {},
   "outputs": [
    {
     "data": {
      "text/plain": [
       "'SynthUSB3 1040'"
      ]
     },
     "execution_count": 2,
     "metadata": {},
     "output_type": "execute_result"
    }
   ],
   "source": [
    "sg_1.identify() # Should print name and serial number of the instrument."
   ]
  },
  {
   "cell_type": "markdown",
   "id": "c83b54ed-026f-4b07-bb31-958576acf60a",
   "metadata": {},
   "source": [
    "### Test the output state\n",
    "Check that the instrument correctly reports its output state. You may need to run this command twice to make the instrument respond properly."
   ]
  },
  {
   "cell_type": "code",
   "execution_count": 6,
   "id": "6dc83997-4fe7-42ce-a943-6bdec75fae20",
   "metadata": {},
   "outputs": [],
   "source": [
    "sg_1.device_clear()  # Seems to be necessary after an identify() query.\n",
    "sg_1.output()    # Query the output state"
   ]
  },
  {
   "cell_type": "markdown",
   "id": "77811b84-15e5-4839-a991-fd74bfa53294",
   "metadata": {},
   "source": [
    "### Test basic parameters\n",
    "Run the following commands, and check by looking at your spectrum analyser that they are having the desired effect."
   ]
  },
  {
   "cell_type": "code",
   "execution_count": 4,
   "id": "533f07e0-acde-4377-8268-39f39c91979c",
   "metadata": {},
   "outputs": [],
   "source": [
    "sg_1.frequency(600)  # Set the frequency\n",
    "sg_1.level(-5)      # Set the level"
   ]
  },
  {
   "cell_type": "markdown",
   "id": "8fcd3cf1-2ab9-4f58-8fc2-8d2665d30713",
   "metadata": {},
   "source": [
    "## Closing the connection\n",
    "After your work is complete, you can close the connection to the instrument with the following command."
   ]
  },
  {
   "cell_type": "code",
   "execution_count": 2,
   "id": "4c17e24a-c924-4ea7-bd3e-092ae372262d",
   "metadata": {},
   "outputs": [
    {
     "ename": "NameError",
     "evalue": "name 'sg_1' is not defined",
     "output_type": "error",
     "traceback": [
      "\u001b[31m---------------------------------------------------------------------------\u001b[39m",
      "\u001b[31mNameError\u001b[39m                                 Traceback (most recent call last)",
      "\u001b[36mCell\u001b[39m\u001b[36m \u001b[39m\u001b[32mIn[2]\u001b[39m\u001b[32m, line 1\u001b[39m\n\u001b[32m----> \u001b[39m\u001b[32m1\u001b[39m \u001b[43msg_1\u001b[49m.close()\n",
      "\u001b[31mNameError\u001b[39m: name 'sg_1' is not defined"
     ]
    }
   ],
   "source": [
    "sg_1.close()"
   ]
  },
  {
   "cell_type": "code",
   "execution_count": null,
   "id": "b2c46fdf-094c-4520-a0d0-f2c776c0aaed",
   "metadata": {},
   "outputs": [],
   "source": []
  }
 ],
 "metadata": {
  "kernelspec": {
   "display_name": "Python 3 (ipykernel)",
   "language": "python",
   "name": "python3"
  },
  "language_info": {
   "codemirror_mode": {
    "name": "ipython",
    "version": 3
   },
   "file_extension": ".py",
   "mimetype": "text/x-python",
   "name": "python",
   "nbconvert_exporter": "python",
   "pygments_lexer": "ipython3",
   "version": "3.12.7"
  },
  "nbsphinx": {
   "execute": "never"
  }
 },
 "nbformat": 4,
 "nbformat_minor": 5
}
